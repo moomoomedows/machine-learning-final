{
 "cells": [
  {
   "cell_type": "code",
   "execution_count": 8,
   "id": "d6026c5e",
   "metadata": {},
   "outputs": [],
   "source": [
    "import pandas as pd\n",
    "import numpy as np\n",
    "\n",
    "from sklearn.svm import SVC\n",
    "from sklearn.model_selection import GridSearchCV\n",
    "from sklearn.model_selection import train_test_split\n",
    "from sklearn.metrics import accuracy_score\n",
    "\n",
    "## Images:\n",
    "from skimage.transform import resize\n",
    "from skimage.io import imread\n",
    "\n",
    "import os\n",
    "import matplotlib.pyplot as plt\n",
    "\n",
    "import pickle"
   ]
  },
  {
   "cell_type": "code",
   "execution_count": 9,
   "id": "6047b230",
   "metadata": {},
   "outputs": [
    {
     "name": "stdout",
     "output_type": "stream",
     "text": [
      "loading... category:  ChickenHead\n",
      "loaded category  ChickenHead successfully\n",
      "loading... category:  ElephantHead\n",
      "loaded category  ElephantHead successfully\n"
     ]
    }
   ],
   "source": [
    "datadir = 'Images/'\n",
    "categories = ['ChickenHead', 'ElephantHead']\n",
    "\n",
    "flat_data_arr = []\n",
    "target_arr = []\n",
    "\n",
    "for i in categories:\n",
    "    print ('loading... category: ', i)\n",
    "    path = os.path.join (datadir, i)\n",
    "    for img in os.listdir (path):\n",
    "        img_array = imread (os.path.join (path, img))\n",
    "        img_resized = resize (img_array, (150, 150, 3))\n",
    "        flat_data_arr.append (img_resized.flatten())\n",
    "        target_arr.append (categories.index(i))\n",
    "    print (\"loaded category \", i, \"successfully\")"
   ]
  },
  {
   "cell_type": "code",
   "execution_count": 10,
   "id": "813ee1f2",
   "metadata": {},
   "outputs": [
    {
     "data": {
      "text/html": [
       "<div>\n",
       "<style scoped>\n",
       "    .dataframe tbody tr th:only-of-type {\n",
       "        vertical-align: middle;\n",
       "    }\n",
       "\n",
       "    .dataframe tbody tr th {\n",
       "        vertical-align: top;\n",
       "    }\n",
       "\n",
       "    .dataframe thead th {\n",
       "        text-align: right;\n",
       "    }\n",
       "</style>\n",
       "<table border=\"1\" class=\"dataframe\">\n",
       "  <thead>\n",
       "    <tr style=\"text-align: right;\">\n",
       "      <th></th>\n",
       "      <th>0</th>\n",
       "      <th>1</th>\n",
       "      <th>2</th>\n",
       "      <th>3</th>\n",
       "      <th>4</th>\n",
       "      <th>5</th>\n",
       "      <th>6</th>\n",
       "      <th>7</th>\n",
       "      <th>8</th>\n",
       "      <th>9</th>\n",
       "      <th>...</th>\n",
       "      <th>67491</th>\n",
       "      <th>67492</th>\n",
       "      <th>67493</th>\n",
       "      <th>67494</th>\n",
       "      <th>67495</th>\n",
       "      <th>67496</th>\n",
       "      <th>67497</th>\n",
       "      <th>67498</th>\n",
       "      <th>67499</th>\n",
       "      <th>Target</th>\n",
       "    </tr>\n",
       "  </thead>\n",
       "  <tbody>\n",
       "    <tr>\n",
       "      <th>0</th>\n",
       "      <td>0.258824</td>\n",
       "      <td>0.258824</td>\n",
       "      <td>0.219608</td>\n",
       "      <td>0.231373</td>\n",
       "      <td>0.231373</td>\n",
       "      <td>0.192157</td>\n",
       "      <td>0.168627</td>\n",
       "      <td>0.168627</td>\n",
       "      <td>0.129412</td>\n",
       "      <td>0.180392</td>\n",
       "      <td>...</td>\n",
       "      <td>0.321569</td>\n",
       "      <td>0.321569</td>\n",
       "      <td>0.290196</td>\n",
       "      <td>0.301961</td>\n",
       "      <td>0.301961</td>\n",
       "      <td>0.270588</td>\n",
       "      <td>0.290196</td>\n",
       "      <td>0.290196</td>\n",
       "      <td>0.258824</td>\n",
       "      <td>0</td>\n",
       "    </tr>\n",
       "    <tr>\n",
       "      <th>1</th>\n",
       "      <td>0.121569</td>\n",
       "      <td>0.227451</td>\n",
       "      <td>0.105882</td>\n",
       "      <td>0.129412</td>\n",
       "      <td>0.227451</td>\n",
       "      <td>0.113725</td>\n",
       "      <td>0.176471</td>\n",
       "      <td>0.254902</td>\n",
       "      <td>0.149020</td>\n",
       "      <td>0.219608</td>\n",
       "      <td>...</td>\n",
       "      <td>0.784314</td>\n",
       "      <td>0.670588</td>\n",
       "      <td>0.513725</td>\n",
       "      <td>0.772549</td>\n",
       "      <td>0.658824</td>\n",
       "      <td>0.501961</td>\n",
       "      <td>0.768627</td>\n",
       "      <td>0.654902</td>\n",
       "      <td>0.498039</td>\n",
       "      <td>0</td>\n",
       "    </tr>\n",
       "    <tr>\n",
       "      <th>2</th>\n",
       "      <td>0.415686</td>\n",
       "      <td>0.698039</td>\n",
       "      <td>0.258824</td>\n",
       "      <td>0.384314</td>\n",
       "      <td>0.666667</td>\n",
       "      <td>0.235294</td>\n",
       "      <td>0.349020</td>\n",
       "      <td>0.619608</td>\n",
       "      <td>0.203922</td>\n",
       "      <td>0.321569</td>\n",
       "      <td>...</td>\n",
       "      <td>0.423529</td>\n",
       "      <td>0.615686</td>\n",
       "      <td>0.266667</td>\n",
       "      <td>0.435294</td>\n",
       "      <td>0.627451</td>\n",
       "      <td>0.270588</td>\n",
       "      <td>0.380392</td>\n",
       "      <td>0.572549</td>\n",
       "      <td>0.215686</td>\n",
       "      <td>0</td>\n",
       "    </tr>\n",
       "    <tr>\n",
       "      <th>3</th>\n",
       "      <td>0.000000</td>\n",
       "      <td>0.000000</td>\n",
       "      <td>0.000000</td>\n",
       "      <td>0.000000</td>\n",
       "      <td>0.000000</td>\n",
       "      <td>0.000000</td>\n",
       "      <td>0.000000</td>\n",
       "      <td>0.000000</td>\n",
       "      <td>0.000000</td>\n",
       "      <td>0.000000</td>\n",
       "      <td>...</td>\n",
       "      <td>0.000000</td>\n",
       "      <td>0.000000</td>\n",
       "      <td>0.000000</td>\n",
       "      <td>0.000000</td>\n",
       "      <td>0.000000</td>\n",
       "      <td>0.000000</td>\n",
       "      <td>0.000000</td>\n",
       "      <td>0.000000</td>\n",
       "      <td>0.000000</td>\n",
       "      <td>0</td>\n",
       "    </tr>\n",
       "    <tr>\n",
       "      <th>4</th>\n",
       "      <td>0.784314</td>\n",
       "      <td>0.729412</td>\n",
       "      <td>0.623529</td>\n",
       "      <td>0.776471</td>\n",
       "      <td>0.721569</td>\n",
       "      <td>0.615686</td>\n",
       "      <td>0.737255</td>\n",
       "      <td>0.682353</td>\n",
       "      <td>0.576471</td>\n",
       "      <td>0.690196</td>\n",
       "      <td>...</td>\n",
       "      <td>0.717647</td>\n",
       "      <td>0.643137</td>\n",
       "      <td>0.517647</td>\n",
       "      <td>0.725490</td>\n",
       "      <td>0.650980</td>\n",
       "      <td>0.525490</td>\n",
       "      <td>0.721569</td>\n",
       "      <td>0.647059</td>\n",
       "      <td>0.521569</td>\n",
       "      <td>0</td>\n",
       "    </tr>\n",
       "  </tbody>\n",
       "</table>\n",
       "<p>5 rows × 67501 columns</p>\n",
       "</div>"
      ],
      "text/plain": [
       "          0         1         2         3         4         5         6  \\\n",
       "0  0.258824  0.258824  0.219608  0.231373  0.231373  0.192157  0.168627   \n",
       "1  0.121569  0.227451  0.105882  0.129412  0.227451  0.113725  0.176471   \n",
       "2  0.415686  0.698039  0.258824  0.384314  0.666667  0.235294  0.349020   \n",
       "3  0.000000  0.000000  0.000000  0.000000  0.000000  0.000000  0.000000   \n",
       "4  0.784314  0.729412  0.623529  0.776471  0.721569  0.615686  0.737255   \n",
       "\n",
       "          7         8         9  ...     67491     67492     67493     67494  \\\n",
       "0  0.168627  0.129412  0.180392  ...  0.321569  0.321569  0.290196  0.301961   \n",
       "1  0.254902  0.149020  0.219608  ...  0.784314  0.670588  0.513725  0.772549   \n",
       "2  0.619608  0.203922  0.321569  ...  0.423529  0.615686  0.266667  0.435294   \n",
       "3  0.000000  0.000000  0.000000  ...  0.000000  0.000000  0.000000  0.000000   \n",
       "4  0.682353  0.576471  0.690196  ...  0.717647  0.643137  0.517647  0.725490   \n",
       "\n",
       "      67495     67496     67497     67498     67499  Target  \n",
       "0  0.301961  0.270588  0.290196  0.290196  0.258824       0  \n",
       "1  0.658824  0.501961  0.768627  0.654902  0.498039       0  \n",
       "2  0.627451  0.270588  0.380392  0.572549  0.215686       0  \n",
       "3  0.000000  0.000000  0.000000  0.000000  0.000000       0  \n",
       "4  0.650980  0.525490  0.721569  0.647059  0.521569       0  \n",
       "\n",
       "[5 rows x 67501 columns]"
      ]
     },
     "execution_count": 10,
     "metadata": {},
     "output_type": "execute_result"
    }
   ],
   "source": [
    "flat_data = np.array (flat_data_arr)\n",
    "target = np.array (target_arr)\n",
    "\n",
    "df = pd.DataFrame (flat_data)\n",
    "df['Target'] = target\n",
    "\n",
    "df.head()"
   ]
  },
  {
   "cell_type": "code",
   "execution_count": 11,
   "id": "0da1d650",
   "metadata": {},
   "outputs": [],
   "source": [
    "X = df.values[:, :-1]\n",
    "Y = df.values[:, -1]\n",
    "\n",
    "xtrain, xtest, ytrain, ytest = train_test_split (X, Y, test_size=0.2, random_state=47)"
   ]
  },
  {
   "cell_type": "markdown",
   "id": "933ef0f7",
   "metadata": {},
   "source": [
    "### Random Forest"
   ]
  },
  {
   "cell_type": "code",
   "execution_count": 12,
   "id": "1963b351",
   "metadata": {},
   "outputs": [
    {
     "name": "stdout",
     "output_type": "stream",
     "text": [
      "max accuracy:  0.975  for n= 14\n"
     ]
    }
   ],
   "source": [
    "from sklearn.ensemble import RandomForestClassifier\n",
    "\n",
    "scores = []\n",
    "\n",
    "for n in range(1, 25, 1):\n",
    "    rf = RandomForestClassifier(n_estimators=n)\n",
    "    rf.fit (xtrain, ytrain)\n",
    "    \n",
    "    y_pred = rf.predict(xtest)\n",
    "    score = accuracy_score (y_pred, ytest)\n",
    "    scores.append (score)\n",
    "        \n",
    "m = max (scores)\n",
    "print('max accuracy: ', m, ' for n=', scores.index(m)+1)"
   ]
  },
  {
   "cell_type": "markdown",
   "id": "39196bfe",
   "metadata": {},
   "source": [
    "### SVM"
   ]
  },
  {
   "cell_type": "code",
   "execution_count": 15,
   "id": "2c8e9793",
   "metadata": {},
   "outputs": [
    {
     "name": "stdout",
     "output_type": "stream",
     "text": [
      "Accuracy score:  0.875\n"
     ]
    }
   ],
   "source": [
    "# Support Vector Machine\n",
    "from sklearn.svm import SVC\n",
    "\n",
    "s = SVC(kernel='rbf', C=1.0, gamma='auto')\n",
    "s.fit(xtrain, ytrain)\n",
    "\n",
    "ypred = s.predict(xtest)\n",
    "\n",
    "print(\"Accuracy score: \", accuracy_score(ypred, ytest))"
   ]
  },
  {
   "cell_type": "markdown",
   "id": "9ccf8803",
   "metadata": {},
   "source": [
    "### Adaboost"
   ]
  },
  {
   "cell_type": "code",
   "execution_count": 16,
   "id": "aed58574",
   "metadata": {},
   "outputs": [
    {
     "name": "stdout",
     "output_type": "stream",
     "text": [
      "max accuracy:  0.95  for n= 22\n"
     ]
    }
   ],
   "source": [
    "from sklearn.ensemble import AdaBoostClassifier\n",
    "\n",
    "scores = []\n",
    "\n",
    "for n in range(1, 25, 1):\n",
    "    ada = AdaBoostClassifier(n_estimators=n)\n",
    "    ada.fit (xtrain, ytrain)\n",
    "    \n",
    "    y_pred = ada.predict(xtest)\n",
    "    score = accuracy_score (y_pred, ytest)\n",
    "    scores.append (score)\n",
    "    \n",
    "m = max (scores)\n",
    "print('max accuracy: ', m, ' for n=', scores.index(m)+1)"
   ]
  },
  {
   "cell_type": "markdown",
   "id": "5b21249f",
   "metadata": {},
   "source": [
    "### KNN"
   ]
  },
  {
   "cell_type": "code",
   "execution_count": 17,
   "id": "0fd69c3b",
   "metadata": {},
   "outputs": [
    {
     "name": "stderr",
     "output_type": "stream",
     "text": [
      "C:\\Users\\sebas\\anaconda3\\lib\\site-packages\\sklearn\\neighbors\\_classification.py:228: FutureWarning: Unlike other reduction functions (e.g. `skew`, `kurtosis`), the default behavior of `mode` typically preserves the axis it acts along. In SciPy 1.11.0, this behavior will change: the default value of `keepdims` will become False, the `axis` over which the statistic is taken will be eliminated, and the value None will no longer be accepted. Set `keepdims` to True or False to avoid this warning.\n",
      "  mode, _ = stats.mode(_y[neigh_ind, k], axis=1)\n",
      "C:\\Users\\sebas\\anaconda3\\lib\\site-packages\\sklearn\\neighbors\\_classification.py:228: FutureWarning: Unlike other reduction functions (e.g. `skew`, `kurtosis`), the default behavior of `mode` typically preserves the axis it acts along. In SciPy 1.11.0, this behavior will change: the default value of `keepdims` will become False, the `axis` over which the statistic is taken will be eliminated, and the value None will no longer be accepted. Set `keepdims` to True or False to avoid this warning.\n",
      "  mode, _ = stats.mode(_y[neigh_ind, k], axis=1)\n",
      "C:\\Users\\sebas\\anaconda3\\lib\\site-packages\\sklearn\\neighbors\\_classification.py:228: FutureWarning: Unlike other reduction functions (e.g. `skew`, `kurtosis`), the default behavior of `mode` typically preserves the axis it acts along. In SciPy 1.11.0, this behavior will change: the default value of `keepdims` will become False, the `axis` over which the statistic is taken will be eliminated, and the value None will no longer be accepted. Set `keepdims` to True or False to avoid this warning.\n",
      "  mode, _ = stats.mode(_y[neigh_ind, k], axis=1)\n",
      "C:\\Users\\sebas\\anaconda3\\lib\\site-packages\\sklearn\\neighbors\\_classification.py:228: FutureWarning: Unlike other reduction functions (e.g. `skew`, `kurtosis`), the default behavior of `mode` typically preserves the axis it acts along. In SciPy 1.11.0, this behavior will change: the default value of `keepdims` will become False, the `axis` over which the statistic is taken will be eliminated, and the value None will no longer be accepted. Set `keepdims` to True or False to avoid this warning.\n",
      "  mode, _ = stats.mode(_y[neigh_ind, k], axis=1)\n",
      "C:\\Users\\sebas\\anaconda3\\lib\\site-packages\\sklearn\\neighbors\\_classification.py:228: FutureWarning: Unlike other reduction functions (e.g. `skew`, `kurtosis`), the default behavior of `mode` typically preserves the axis it acts along. In SciPy 1.11.0, this behavior will change: the default value of `keepdims` will become False, the `axis` over which the statistic is taken will be eliminated, and the value None will no longer be accepted. Set `keepdims` to True or False to avoid this warning.\n",
      "  mode, _ = stats.mode(_y[neigh_ind, k], axis=1)\n",
      "C:\\Users\\sebas\\anaconda3\\lib\\site-packages\\sklearn\\neighbors\\_classification.py:228: FutureWarning: Unlike other reduction functions (e.g. `skew`, `kurtosis`), the default behavior of `mode` typically preserves the axis it acts along. In SciPy 1.11.0, this behavior will change: the default value of `keepdims` will become False, the `axis` over which the statistic is taken will be eliminated, and the value None will no longer be accepted. Set `keepdims` to True or False to avoid this warning.\n",
      "  mode, _ = stats.mode(_y[neigh_ind, k], axis=1)\n",
      "C:\\Users\\sebas\\anaconda3\\lib\\site-packages\\sklearn\\neighbors\\_classification.py:228: FutureWarning: Unlike other reduction functions (e.g. `skew`, `kurtosis`), the default behavior of `mode` typically preserves the axis it acts along. In SciPy 1.11.0, this behavior will change: the default value of `keepdims` will become False, the `axis` over which the statistic is taken will be eliminated, and the value None will no longer be accepted. Set `keepdims` to True or False to avoid this warning.\n",
      "  mode, _ = stats.mode(_y[neigh_ind, k], axis=1)\n",
      "C:\\Users\\sebas\\anaconda3\\lib\\site-packages\\sklearn\\neighbors\\_classification.py:228: FutureWarning: Unlike other reduction functions (e.g. `skew`, `kurtosis`), the default behavior of `mode` typically preserves the axis it acts along. In SciPy 1.11.0, this behavior will change: the default value of `keepdims` will become False, the `axis` over which the statistic is taken will be eliminated, and the value None will no longer be accepted. Set `keepdims` to True or False to avoid this warning.\n",
      "  mode, _ = stats.mode(_y[neigh_ind, k], axis=1)\n",
      "C:\\Users\\sebas\\anaconda3\\lib\\site-packages\\sklearn\\neighbors\\_classification.py:228: FutureWarning: Unlike other reduction functions (e.g. `skew`, `kurtosis`), the default behavior of `mode` typically preserves the axis it acts along. In SciPy 1.11.0, this behavior will change: the default value of `keepdims` will become False, the `axis` over which the statistic is taken will be eliminated, and the value None will no longer be accepted. Set `keepdims` to True or False to avoid this warning.\n",
      "  mode, _ = stats.mode(_y[neigh_ind, k], axis=1)\n",
      "C:\\Users\\sebas\\anaconda3\\lib\\site-packages\\sklearn\\neighbors\\_classification.py:228: FutureWarning: Unlike other reduction functions (e.g. `skew`, `kurtosis`), the default behavior of `mode` typically preserves the axis it acts along. In SciPy 1.11.0, this behavior will change: the default value of `keepdims` will become False, the `axis` over which the statistic is taken will be eliminated, and the value None will no longer be accepted. Set `keepdims` to True or False to avoid this warning.\n",
      "  mode, _ = stats.mode(_y[neigh_ind, k], axis=1)\n",
      "C:\\Users\\sebas\\anaconda3\\lib\\site-packages\\sklearn\\neighbors\\_classification.py:228: FutureWarning: Unlike other reduction functions (e.g. `skew`, `kurtosis`), the default behavior of `mode` typically preserves the axis it acts along. In SciPy 1.11.0, this behavior will change: the default value of `keepdims` will become False, the `axis` over which the statistic is taken will be eliminated, and the value None will no longer be accepted. Set `keepdims` to True or False to avoid this warning.\n",
      "  mode, _ = stats.mode(_y[neigh_ind, k], axis=1)\n",
      "C:\\Users\\sebas\\anaconda3\\lib\\site-packages\\sklearn\\neighbors\\_classification.py:228: FutureWarning: Unlike other reduction functions (e.g. `skew`, `kurtosis`), the default behavior of `mode` typically preserves the axis it acts along. In SciPy 1.11.0, this behavior will change: the default value of `keepdims` will become False, the `axis` over which the statistic is taken will be eliminated, and the value None will no longer be accepted. Set `keepdims` to True or False to avoid this warning.\n",
      "  mode, _ = stats.mode(_y[neigh_ind, k], axis=1)\n",
      "C:\\Users\\sebas\\anaconda3\\lib\\site-packages\\sklearn\\neighbors\\_classification.py:228: FutureWarning: Unlike other reduction functions (e.g. `skew`, `kurtosis`), the default behavior of `mode` typically preserves the axis it acts along. In SciPy 1.11.0, this behavior will change: the default value of `keepdims` will become False, the `axis` over which the statistic is taken will be eliminated, and the value None will no longer be accepted. Set `keepdims` to True or False to avoid this warning.\n",
      "  mode, _ = stats.mode(_y[neigh_ind, k], axis=1)\n",
      "C:\\Users\\sebas\\anaconda3\\lib\\site-packages\\sklearn\\neighbors\\_classification.py:228: FutureWarning: Unlike other reduction functions (e.g. `skew`, `kurtosis`), the default behavior of `mode` typically preserves the axis it acts along. In SciPy 1.11.0, this behavior will change: the default value of `keepdims` will become False, the `axis` over which the statistic is taken will be eliminated, and the value None will no longer be accepted. Set `keepdims` to True or False to avoid this warning.\n",
      "  mode, _ = stats.mode(_y[neigh_ind, k], axis=1)\n",
      "C:\\Users\\sebas\\anaconda3\\lib\\site-packages\\sklearn\\neighbors\\_classification.py:228: FutureWarning: Unlike other reduction functions (e.g. `skew`, `kurtosis`), the default behavior of `mode` typically preserves the axis it acts along. In SciPy 1.11.0, this behavior will change: the default value of `keepdims` will become False, the `axis` over which the statistic is taken will be eliminated, and the value None will no longer be accepted. Set `keepdims` to True or False to avoid this warning.\n",
      "  mode, _ = stats.mode(_y[neigh_ind, k], axis=1)\n",
      "C:\\Users\\sebas\\anaconda3\\lib\\site-packages\\sklearn\\neighbors\\_classification.py:228: FutureWarning: Unlike other reduction functions (e.g. `skew`, `kurtosis`), the default behavior of `mode` typically preserves the axis it acts along. In SciPy 1.11.0, this behavior will change: the default value of `keepdims` will become False, the `axis` over which the statistic is taken will be eliminated, and the value None will no longer be accepted. Set `keepdims` to True or False to avoid this warning.\n",
      "  mode, _ = stats.mode(_y[neigh_ind, k], axis=1)\n",
      "C:\\Users\\sebas\\anaconda3\\lib\\site-packages\\sklearn\\neighbors\\_classification.py:228: FutureWarning: Unlike other reduction functions (e.g. `skew`, `kurtosis`), the default behavior of `mode` typically preserves the axis it acts along. In SciPy 1.11.0, this behavior will change: the default value of `keepdims` will become False, the `axis` over which the statistic is taken will be eliminated, and the value None will no longer be accepted. Set `keepdims` to True or False to avoid this warning.\n",
      "  mode, _ = stats.mode(_y[neigh_ind, k], axis=1)\n"
     ]
    },
    {
     "name": "stderr",
     "output_type": "stream",
     "text": [
      "C:\\Users\\sebas\\anaconda3\\lib\\site-packages\\sklearn\\neighbors\\_classification.py:228: FutureWarning: Unlike other reduction functions (e.g. `skew`, `kurtosis`), the default behavior of `mode` typically preserves the axis it acts along. In SciPy 1.11.0, this behavior will change: the default value of `keepdims` will become False, the `axis` over which the statistic is taken will be eliminated, and the value None will no longer be accepted. Set `keepdims` to True or False to avoid this warning.\n",
      "  mode, _ = stats.mode(_y[neigh_ind, k], axis=1)\n",
      "C:\\Users\\sebas\\anaconda3\\lib\\site-packages\\sklearn\\neighbors\\_classification.py:228: FutureWarning: Unlike other reduction functions (e.g. `skew`, `kurtosis`), the default behavior of `mode` typically preserves the axis it acts along. In SciPy 1.11.0, this behavior will change: the default value of `keepdims` will become False, the `axis` over which the statistic is taken will be eliminated, and the value None will no longer be accepted. Set `keepdims` to True or False to avoid this warning.\n",
      "  mode, _ = stats.mode(_y[neigh_ind, k], axis=1)\n",
      "C:\\Users\\sebas\\anaconda3\\lib\\site-packages\\sklearn\\neighbors\\_classification.py:228: FutureWarning: Unlike other reduction functions (e.g. `skew`, `kurtosis`), the default behavior of `mode` typically preserves the axis it acts along. In SciPy 1.11.0, this behavior will change: the default value of `keepdims` will become False, the `axis` over which the statistic is taken will be eliminated, and the value None will no longer be accepted. Set `keepdims` to True or False to avoid this warning.\n",
      "  mode, _ = stats.mode(_y[neigh_ind, k], axis=1)\n",
      "C:\\Users\\sebas\\anaconda3\\lib\\site-packages\\sklearn\\neighbors\\_classification.py:228: FutureWarning: Unlike other reduction functions (e.g. `skew`, `kurtosis`), the default behavior of `mode` typically preserves the axis it acts along. In SciPy 1.11.0, this behavior will change: the default value of `keepdims` will become False, the `axis` over which the statistic is taken will be eliminated, and the value None will no longer be accepted. Set `keepdims` to True or False to avoid this warning.\n",
      "  mode, _ = stats.mode(_y[neigh_ind, k], axis=1)\n",
      "C:\\Users\\sebas\\anaconda3\\lib\\site-packages\\sklearn\\neighbors\\_classification.py:228: FutureWarning: Unlike other reduction functions (e.g. `skew`, `kurtosis`), the default behavior of `mode` typically preserves the axis it acts along. In SciPy 1.11.0, this behavior will change: the default value of `keepdims` will become False, the `axis` over which the statistic is taken will be eliminated, and the value None will no longer be accepted. Set `keepdims` to True or False to avoid this warning.\n",
      "  mode, _ = stats.mode(_y[neigh_ind, k], axis=1)\n",
      "C:\\Users\\sebas\\anaconda3\\lib\\site-packages\\sklearn\\neighbors\\_classification.py:228: FutureWarning: Unlike other reduction functions (e.g. `skew`, `kurtosis`), the default behavior of `mode` typically preserves the axis it acts along. In SciPy 1.11.0, this behavior will change: the default value of `keepdims` will become False, the `axis` over which the statistic is taken will be eliminated, and the value None will no longer be accepted. Set `keepdims` to True or False to avoid this warning.\n",
      "  mode, _ = stats.mode(_y[neigh_ind, k], axis=1)\n"
     ]
    },
    {
     "name": "stdout",
     "output_type": "stream",
     "text": [
      "max accuracy:  0.925  for n= 2\n"
     ]
    },
    {
     "name": "stderr",
     "output_type": "stream",
     "text": [
      "C:\\Users\\sebas\\anaconda3\\lib\\site-packages\\sklearn\\neighbors\\_classification.py:228: FutureWarning: Unlike other reduction functions (e.g. `skew`, `kurtosis`), the default behavior of `mode` typically preserves the axis it acts along. In SciPy 1.11.0, this behavior will change: the default value of `keepdims` will become False, the `axis` over which the statistic is taken will be eliminated, and the value None will no longer be accepted. Set `keepdims` to True or False to avoid this warning.\n",
      "  mode, _ = stats.mode(_y[neigh_ind, k], axis=1)\n"
     ]
    }
   ],
   "source": [
    "from sklearn.neighbors import KNeighborsClassifier\n",
    "\n",
    "scores = []\n",
    "\n",
    "for k in range(1, 25, 1):\n",
    "    rf = KNeighborsClassifier(n_neighbors=k)\n",
    "    rf.fit (xtrain, ytrain)\n",
    "    \n",
    "    y_pred = rf.predict(xtest)\n",
    "    score = accuracy_score (y_pred, ytest)\n",
    "    scores.append (score)\n",
    "        \n",
    "m = max (scores)\n",
    "print('max accuracy: ', m, ' for n=', scores.index(m)+1)"
   ]
  },
  {
   "cell_type": "markdown",
   "id": "4ec9c4b2",
   "metadata": {},
   "source": [
    "### Neural Network"
   ]
  },
  {
   "cell_type": "code",
   "execution_count": 18,
   "id": "f85e751b",
   "metadata": {},
   "outputs": [
    {
     "name": "stdout",
     "output_type": "stream",
     "text": [
      "Accuracy score test:  0.95  Settings:  identity lbfgs\n",
      "Accuracy score train:  1.0  Settings:  identity lbfgs\n",
      "Accuracy score test:  0.95  Settings:  identity sgd\n",
      "Accuracy score train:  1.0  Settings:  identity sgd\n",
      "Accuracy score test:  0.95  Settings:  identity adam\n",
      "Accuracy score train:  0.9125  Settings:  identity adam\n",
      "Accuracy score test:  0.925  Settings:  logistic lbfgs\n",
      "Accuracy score train:  0.98125  Settings:  logistic lbfgs\n",
      "Accuracy score test:  0.85  Settings:  logistic sgd\n",
      "Accuracy score train:  0.9  Settings:  logistic sgd\n",
      "Accuracy score test:  0.4  Settings:  logistic adam\n",
      "Accuracy score train:  0.525  Settings:  logistic adam\n",
      "Accuracy score test:  0.4  Settings:  tanh lbfgs\n",
      "Accuracy score train:  0.525  Settings:  tanh lbfgs\n",
      "Accuracy score test:  0.6  Settings:  tanh sgd\n",
      "Accuracy score train:  0.475  Settings:  tanh sgd\n",
      "Accuracy score test:  0.4  Settings:  tanh adam\n",
      "Accuracy score train:  0.525  Settings:  tanh adam\n",
      "Accuracy score test:  0.4  Settings:  relu lbfgs\n",
      "Accuracy score train:  0.525  Settings:  relu lbfgs\n"
     ]
    },
    {
     "name": "stderr",
     "output_type": "stream",
     "text": [
      "C:\\Users\\sebas\\anaconda3\\lib\\site-packages\\sklearn\\neural_network\\_multilayer_perceptron.py:692: ConvergenceWarning: Stochastic Optimizer: Maximum iterations (200) reached and the optimization hasn't converged yet.\n",
      "  warnings.warn(\n"
     ]
    },
    {
     "name": "stdout",
     "output_type": "stream",
     "text": [
      "Accuracy score test:  0.6  Settings:  relu sgd\n",
      "Accuracy score train:  0.475  Settings:  relu sgd\n",
      "Accuracy score test:  0.4  Settings:  relu adam\n",
      "Accuracy score train:  0.525  Settings:  relu adam\n"
     ]
    }
   ],
   "source": [
    "from sklearn.neural_network import MLPClassifier\n",
    "\n",
    "activations = ['identity', 'logistic', 'tanh', 'relu']\n",
    "solvers = ['lbfgs', 'sgd', 'adam']\n",
    "for a in activations:\n",
    "    for s in solvers:\n",
    "        r = MLPClassifier (hidden_layer_sizes = (5, 2), activation=a, solver=s)\n",
    "        r.fit(xtrain, ytrain)\n",
    "\n",
    "        y_pred_test = r.predict(xtest)\n",
    "        score = accuracy_score (y_pred_test, ytest)\n",
    "        print(\"Accuracy score test: \", score, \" Settings: \", a + ' ' + s)\n",
    "        y_pred_train = r.predict(xtrain)\n",
    "        score = accuracy_score (y_pred_train, ytrain)\n",
    "        print(\"Accuracy score train: \", score, \" Settings: \", a + ' ' + s)\n"
   ]
  },
  {
   "cell_type": "code",
   "execution_count": 19,
   "id": "78f0b532",
   "metadata": {},
   "outputs": [
    {
     "data": {
      "text/plain": [
       "MLPClassifier(activation='identity', hidden_layer_sizes=(5, 2), solver='lbfgs')"
      ]
     },
     "execution_count": 19,
     "metadata": {},
     "output_type": "execute_result"
    }
   ],
   "source": [
    "r = MLPClassifier (hidden_layer_sizes = (5, 2), activation='identity', solver='lbfgs')\n",
    "r.fit (xtrain, ytrain)"
   ]
  },
  {
   "cell_type": "markdown",
   "id": "b774c20f",
   "metadata": {},
   "source": [
    "### Piclke stuff"
   ]
  },
  {
   "cell_type": "code",
   "execution_count": 22,
   "id": "8d8ab384",
   "metadata": {},
   "outputs": [],
   "source": [
    "pickle.dump (r, open('neutralNetwork.pkl', 'wb'))"
   ]
  },
  {
   "cell_type": "code",
   "execution_count": 23,
   "id": "f683c27f",
   "metadata": {},
   "outputs": [],
   "source": [
    "model = pickle.load (open('neutralNetwork.pkl', 'rb'))"
   ]
  },
  {
   "cell_type": "markdown",
   "id": "daf973d3",
   "metadata": {},
   "source": [
    "### Testing"
   ]
  },
  {
   "cell_type": "code",
   "execution_count": 24,
   "id": "2b630609",
   "metadata": {},
   "outputs": [
    {
     "name": "stdout",
     "output_type": "stream",
     "text": [
      "Chicken\n",
      "Chicken\n",
      "Chicken\n",
      "Elephant\n",
      "Elephant\n"
     ]
    }
   ],
   "source": [
    "def predict(test_data):\n",
    "    p = model.predict (test_data)\n",
    "    if p==0: print ('Chicken')\n",
    "    else: print ('Elephant')\n",
    "\n",
    "filename = 'testImages/chicken1.png'\n",
    "\n",
    "img_array = imread (filename)\n",
    "img_resized = resize (img_array, (150, 150, 3))\n",
    "test_data = np.array (img_resized.flatten())\n",
    "test_data = test_data.reshape(1, -1)\n",
    "predict(test_data)\n",
    "\n",
    "filename = 'testImages/chicken2.jpg'\n",
    "\n",
    "img_array = imread (filename)\n",
    "img_resized = resize (img_array, (150, 150, 3))\n",
    "test_data = np.array (img_resized.flatten())\n",
    "test_data = test_data.reshape(1, -1)\n",
    "predict(test_data)\n",
    "\n",
    "filename = 'testImages/chicken3.jpg'\n",
    "\n",
    "img_array = imread (filename)\n",
    "img_resized = resize (img_array, (150, 150, 3))\n",
    "test_data = np.array (img_resized.flatten())\n",
    "test_data = test_data.reshape(1, -1)\n",
    "predict(test_data)\n",
    "\n",
    "filename = 'testImages/elephent1.jpg'\n",
    "\n",
    "img_array = imread (filename)\n",
    "img_resized = resize (img_array, (150, 150, 3))\n",
    "test_data = np.array (img_resized.flatten())\n",
    "test_data = test_data.reshape(1, -1)\n",
    "predict(test_data)\n",
    "\n",
    "filename = 'testImages/elephent2.jpg'\n",
    "\n",
    "img_array = imread (filename)\n",
    "img_resized = resize (img_array, (150, 150, 3))\n",
    "test_data = np.array (img_resized.flatten())\n",
    "test_data = test_data.reshape(1, -1)\n",
    "predict(test_data)"
   ]
  },
  {
   "cell_type": "markdown",
   "id": "a8afcf6b",
   "metadata": {},
   "source": [
    "# ALL TEST IMAGES CORRECT!"
   ]
  },
  {
   "cell_type": "code",
   "execution_count": null,
   "id": "afd54d80",
   "metadata": {},
   "outputs": [],
   "source": []
  }
 ],
 "metadata": {
  "kernelspec": {
   "display_name": "Python 3 (ipykernel)",
   "language": "python",
   "name": "python3"
  },
  "language_info": {
   "codemirror_mode": {
    "name": "ipython",
    "version": 3
   },
   "file_extension": ".py",
   "mimetype": "text/x-python",
   "name": "python",
   "nbconvert_exporter": "python",
   "pygments_lexer": "ipython3",
   "version": "3.9.13"
  }
 },
 "nbformat": 4,
 "nbformat_minor": 5
}
